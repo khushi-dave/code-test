{
 "cells": [
  {
   "cell_type": "code",
   "execution_count": 4,
   "metadata": {},
   "outputs": [
    {
     "name": "stdout",
     "output_type": "stream",
     "text": [
      "COST PRICE:45\n",
      "SELLING PRICE:65\n",
      "PROFIT\n"
     ]
    }
   ],
   "source": [
    "CP=int(input(\"COST PRICE:\"))\n",
    "SP=int(input(\"SELLING PRICE:\"))\n",
    "\n",
    "if(SP>CP):\n",
    "    print(\"PROFIT\")\n",
    "elif(SP<CP):\n",
    "    print(\"LOSS\")\n",
    "else:\n",
    "    print(\"NEITHER\")"
   ]
  },
  {
   "cell_type": "code",
   "execution_count": null,
   "metadata": {},
   "outputs": [],
   "source": []
  }
 ],
 "metadata": {
  "kernelspec": {
   "display_name": "Python 3",
   "language": "python",
   "name": "python3"
  },
  "language_info": {
   "codemirror_mode": {
    "name": "ipython",
    "version": 3
   },
   "file_extension": ".py",
   "mimetype": "text/x-python",
   "name": "python",
   "nbconvert_exporter": "python",
   "pygments_lexer": "ipython3",
   "version": "3.7.6"
  }
 },
 "nbformat": 4,
 "nbformat_minor": 4
}
